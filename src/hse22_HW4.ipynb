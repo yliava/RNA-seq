{
  "cells": [
    {
      "cell_type": "markdown",
      "metadata": {
        "id": "3rFZS5A_yy1o"
      },
      "source": [
        "# Подготовка файлов и программ"
      ]
    },
    {
      "cell_type": "markdown",
      "metadata": {
        "id": "7DFpK_Pf1hAX"
      },
      "source": [
        "## Установка HISAT2 (для выравниваия RNA-seq чтений на геном)"
      ]
    },
    {
      "cell_type": "code",
      "execution_count": 1,
      "metadata": {
        "colab": {
          "base_uri": "https://localhost:8080/"
        },
        "id": "WS21uIX63ehw",
        "outputId": "84a28877-d567-4cd7-ffed-46855f6dee60"
      },
      "outputs": [
        {
          "output_type": "stream",
          "name": "stdout",
          "text": [
            "Get:1 https://cloud.r-project.org/bin/linux/ubuntu bionic-cran40/ InRelease [3,626 B]\n",
            "Get:2 http://ppa.launchpad.net/c2d4u.team/c2d4u4.0+/ubuntu bionic InRelease [15.9 kB]\n",
            "Hit:3 http://archive.ubuntu.com/ubuntu bionic InRelease\n",
            "Ign:4 https://developer.download.nvidia.com/compute/machine-learning/repos/ubuntu1804/x86_64  InRelease\n",
            "Hit:5 https://developer.download.nvidia.com/compute/cuda/repos/ubuntu1804/x86_64  InRelease\n",
            "Get:6 http://archive.ubuntu.com/ubuntu bionic-updates InRelease [88.7 kB]\n",
            "Hit:7 https://developer.download.nvidia.com/compute/machine-learning/repos/ubuntu1804/x86_64  Release\n",
            "Get:8 http://security.ubuntu.com/ubuntu bionic-security InRelease [88.7 kB]\n",
            "Hit:9 http://ppa.launchpad.net/cran/libgit2/ubuntu bionic InRelease\n",
            "Get:10 http://archive.ubuntu.com/ubuntu bionic-backports InRelease [83.3 kB]\n",
            "Hit:11 http://ppa.launchpad.net/deadsnakes/ppa/ubuntu bionic InRelease\n",
            "Get:12 http://ppa.launchpad.net/graphics-drivers/ppa/ubuntu bionic InRelease [21.3 kB]\n",
            "Get:13 http://ppa.launchpad.net/c2d4u.team/c2d4u4.0+/ubuntu bionic/main Sources [2,233 kB]\n",
            "Get:15 http://ppa.launchpad.net/c2d4u.team/c2d4u4.0+/ubuntu bionic/main amd64 Packages [1,143 kB]\n",
            "Get:16 http://archive.ubuntu.com/ubuntu bionic-updates/multiverse amd64 Packages [30.0 kB]\n",
            "Get:17 http://archive.ubuntu.com/ubuntu bionic-updates/restricted amd64 Packages [1,347 kB]\n",
            "Get:18 http://archive.ubuntu.com/ubuntu bionic-updates/main amd64 Packages [3,519 kB]\n",
            "Get:19 http://security.ubuntu.com/ubuntu bionic-security/multiverse amd64 Packages [22.9 kB]\n",
            "Get:20 http://security.ubuntu.com/ubuntu bionic-security/main amd64 Packages [3,094 kB]\n",
            "Get:21 http://security.ubuntu.com/ubuntu bionic-security/restricted amd64 Packages [1,307 kB]\n",
            "Get:22 http://ppa.launchpad.net/graphics-drivers/ppa/ubuntu bionic/main amd64 Packages [40.8 kB]\n",
            "Fetched 13.0 MB in 5s (2,605 kB/s)\n",
            "Reading package lists... Done\n"
          ]
        }
      ],
      "source": [
        "!apt-get update"
      ]
    },
    {
      "cell_type": "code",
      "execution_count": 2,
      "metadata": {
        "colab": {
          "base_uri": "https://localhost:8080/"
        },
        "id": "3md6cslv3is6",
        "outputId": "6ee359e6-3ae5-4b4c-cbd7-7a0805fb44e2"
      },
      "outputs": [
        {
          "output_type": "stream",
          "name": "stdout",
          "text": [
            "Reading package lists... Done\n",
            "Building dependency tree       \n",
            "Reading state information... Done\n",
            "The following package was automatically installed and is no longer required:\n",
            "  libnvidia-common-460\n",
            "Use 'apt autoremove' to remove it.\n",
            "The following NEW packages will be installed:\n",
            "  hisat2\n",
            "0 upgraded, 1 newly installed, 0 to remove and 10 not upgraded.\n",
            "Need to get 1,278 kB of archives.\n",
            "After this operation, 5,144 kB of additional disk space will be used.\n",
            "Get:1 http://archive.ubuntu.com/ubuntu bionic/universe amd64 hisat2 amd64 2.1.0-1 [1,278 kB]\n",
            "Fetched 1,278 kB in 0s (8,217 kB/s)\n",
            "Selecting previously unselected package hisat2.\n",
            "(Reading database ... 124015 files and directories currently installed.)\n",
            "Preparing to unpack .../hisat2_2.1.0-1_amd64.deb ...\n",
            "Unpacking hisat2 (2.1.0-1) ...\n",
            "Setting up hisat2 (2.1.0-1) ...\n",
            "Processing triggers for man-db (2.8.3-2ubuntu0.1) ...\n"
          ]
        }
      ],
      "source": [
        "!apt-get install hisat2"
      ]
    },
    {
      "cell_type": "code",
      "execution_count": 3,
      "metadata": {
        "colab": {
          "base_uri": "https://localhost:8080/"
        },
        "id": "6-Eyz3aD3m8-",
        "outputId": "98008ad0-88a1-4ae8-83a2-942ddf2c8d6e"
      },
      "outputs": [
        {
          "output_type": "stream",
          "name": "stdout",
          "text": [
            "/usr/bin/hisat2-align-s version 2.1.0\n",
            "64-bit\n",
            "Built on Debian unstable\n",
            "Mon Sep  4 12:49:40 UTC 2017\n",
            "Compiler: gcc version 7.2.0 (Ubuntu 7.2.0-12ubuntu1) \n",
            "Options: -O3   -funroll-loops -g3 -Wdate-time -D_FORTIFY_SOURCE=2 -DPOPCNT_CAPABILITY\n",
            "Sizeof {int, long, long long, void*, size_t, off_t}: {4, 8, 8, 8, 8, 8}\n"
          ]
        }
      ],
      "source": [
        "!hisat2 --version"
      ]
    },
    {
      "cell_type": "markdown",
      "metadata": {
        "id": "0fTXUIiw2WGQ"
      },
      "source": [
        "## Установка sra-toolkit (для скачивания .fastq файлов из NCBI)"
      ]
    },
    {
      "cell_type": "code",
      "execution_count": null,
      "metadata": {
        "id": "5m-7wf_x2Yue"
      },
      "outputs": [],
      "source": [
        "!apt-get install sra-toolkit"
      ]
    },
    {
      "cell_type": "markdown",
      "metadata": {
        "id": "XiVlP4mfy74q"
      },
      "source": [
        "## Установка FastQC"
      ]
    },
    {
      "cell_type": "code",
      "execution_count": 5,
      "metadata": {
        "colab": {
          "base_uri": "https://localhost:8080/"
        },
        "id": "62l1Q2ymbENA",
        "outputId": "cb1f97c4-6f1b-46f0-9a9d-42212b2da521"
      },
      "outputs": [
        {
          "output_type": "stream",
          "name": "stdout",
          "text": [
            "openjdk version \"11.0.17\" 2022-10-18\n",
            "OpenJDK Runtime Environment (build 11.0.17+8-post-Ubuntu-1ubuntu218.04)\n",
            "OpenJDK 64-Bit Server VM (build 11.0.17+8-post-Ubuntu-1ubuntu218.04, mixed mode, sharing)\n"
          ]
        }
      ],
      "source": [
        "!java -version"
      ]
    },
    {
      "cell_type": "code",
      "execution_count": 6,
      "metadata": {
        "colab": {
          "base_uri": "https://localhost:8080/"
        },
        "id": "8bpgwFgcbgRd",
        "outputId": "957b212b-be82-4d0e-bc8d-303f8dfb1c4d"
      },
      "outputs": [
        {
          "output_type": "stream",
          "name": "stdout",
          "text": [
            "--2022-12-05 13:33:00--  https://www.bioinformatics.babraham.ac.uk/projects/fastqc/fastqc_v0.11.9.zip\n",
            "Resolving www.bioinformatics.babraham.ac.uk (www.bioinformatics.babraham.ac.uk)... 149.155.133.4\n",
            "Connecting to www.bioinformatics.babraham.ac.uk (www.bioinformatics.babraham.ac.uk)|149.155.133.4|:443... connected.\n",
            "HTTP request sent, awaiting response... 200 OK\n",
            "Length: 10249221 (9.8M) [application/zip]\n",
            "Saving to: ‘fastqc_v0.11.9.zip’\n",
            "\n",
            "fastqc_v0.11.9.zip  100%[===================>]   9.77M  9.49MB/s    in 1.0s    \n",
            "\n",
            "2022-12-05 13:33:02 (9.49 MB/s) - ‘fastqc_v0.11.9.zip’ saved [10249221/10249221]\n",
            "\n"
          ]
        }
      ],
      "source": [
        "!wget https://www.bioinformatics.babraham.ac.uk/projects/fastqc/fastqc_v0.11.9.zip"
      ]
    },
    {
      "cell_type": "code",
      "execution_count": null,
      "metadata": {
        "id": "yTcTjOTJblcm"
      },
      "outputs": [],
      "source": [
        "!unzip fastqc_v0.11.9.zip"
      ]
    },
    {
      "cell_type": "code",
      "execution_count": 95,
      "metadata": {
        "id": "S79LH0aXbvLx"
      },
      "outputs": [],
      "source": [
        "!chmod a+x FastQC/fastqc"
      ]
    },
    {
      "cell_type": "code",
      "execution_count": null,
      "metadata": {
        "id": "PsLuZDt4b7jT"
      },
      "outputs": [],
      "source": [
        "!./FastQC/fastqc --help"
      ]
    },
    {
      "cell_type": "markdown",
      "metadata": {
        "id": "3dqWpZZ_0_V-"
      },
      "source": [
        "## Установка HTSeq-count"
      ]
    },
    {
      "cell_type": "code",
      "execution_count": 10,
      "metadata": {
        "colab": {
          "base_uri": "https://localhost:8080/"
        },
        "id": "1_yqggdMhMfj",
        "outputId": "f773af46-03cb-4142-d790-8ab7c7dfab85"
      },
      "outputs": [
        {
          "output_type": "stream",
          "name": "stdout",
          "text": [
            "Looking in indexes: https://pypi.org/simple, https://us-python.pkg.dev/colab-wheels/public/simple/\n",
            "Collecting HTSeq\n",
            "  Downloading HTSeq-2.0.2-cp38-cp38-manylinux_2_17_x86_64.manylinux2014_x86_64.whl (2.0 MB)\n",
            "\u001b[K     |████████████████████████████████| 2.0 MB 22.3 MB/s \n",
            "\u001b[?25hCollecting pysam\n",
            "  Downloading pysam-0.20.0-cp38-cp38-manylinux_2_24_x86_64.whl (16.1 MB)\n",
            "\u001b[K     |████████████████████████████████| 16.1 MB 56.1 MB/s \n",
            "\u001b[?25hRequirement already satisfied: numpy in /usr/local/lib/python3.8/dist-packages (from HTSeq) (1.21.6)\n",
            "Installing collected packages: pysam, HTSeq\n",
            "Successfully installed HTSeq-2.0.2 pysam-0.20.0\n"
          ]
        }
      ],
      "source": [
        "!pip install HTSeq"
      ]
    },
    {
      "cell_type": "code",
      "execution_count": 11,
      "metadata": {
        "colab": {
          "base_uri": "https://localhost:8080/"
        },
        "id": "L7W0Ep2nhT_d",
        "outputId": "5f5e17d3-79e9-4bba-80dc-49c52423413b"
      },
      "outputs": [
        {
          "output_type": "stream",
          "name": "stdout",
          "text": [
            "Traceback (most recent call last):\n",
            "  File \"/usr/local/bin/htseq-count\", line 3, in <module>\n",
            "    import HTSeq.scripts.count\n",
            "  File \"/usr/local/lib/python3.8/dist-packages/HTSeq/__init__.py\", line 13, in <module>\n",
            "    from HTSeq._HTSeq import *\n",
            "  File \"src/HTSeq/_HTSeq.pyx\", line 1, in init HTSeq._HTSeq\n",
            "ValueError: numpy.ndarray size changed, may indicate binary incompatibility. Expected 96 from C header, got 88 from PyObject\n"
          ]
        }
      ],
      "source": [
        "!htseq-count --version"
      ]
    },
    {
      "cell_type": "markdown",
      "metadata": {
        "id": "I6MhDf5N2tQ3"
      },
      "source": [
        "## Скачиваем RNA-seq данные"
      ]
    },
    {
      "cell_type": "markdown",
      "metadata": {
        "id": "LicIlxo028wE"
      },
      "source": [
        "* Перепрограммированные образцы: \tSRR3414629, SRR3414630, SRR3414631\n",
        "* Контрольные образцы:\t\tSRR3414635, SRR3414636, SRR3414637"
      ]
    },
    {
      "cell_type": "markdown",
      "metadata": {
        "id": "DG-A79ed3NW4"
      },
      "source": [
        "**Если не получается скачать с помощью fastq-dump, можно скачать все образцы в едином архиве по ссылке (занимает 1.5 - 2 часа):**\n",
        "\n"
      ]
    },
    {
      "cell_type": "code",
      "execution_count": 12,
      "metadata": {
        "colab": {
          "base_uri": "https://localhost:8080/"
        },
        "id": "Iw6FvBdn3cVK",
        "outputId": "d22741db-ff5e-40a6-f231-a7f686d654e5"
      },
      "outputs": [
        {
          "output_type": "stream",
          "name": "stdout",
          "text": [
            "--2022-12-05 13:33:08--  http://83.149.211.146:23194/~ivan/data/hse_teaching/rna_seq_2021.tgz\n",
            "Connecting to 83.149.211.146:23194... connected.\n",
            "HTTP request sent, awaiting response... 200 OK\n",
            "Length: 6471183400 (6.0G) [application/x-gzip]\n",
            "Saving to: ‘rna_seq_2021.tgz’\n",
            "\n",
            "rna_seq_2021.tgz    100%[===================>]   6.03G  7.88MB/s    in 13m 3s  \n",
            "\n",
            "2022-12-05 13:46:12 (7.88 MB/s) - ‘rna_seq_2021.tgz’ saved [6471183400/6471183400]\n",
            "\n",
            "\n",
            "real\t13m3.264s\n",
            "user\t0m6.116s\n",
            "sys\t1m2.483s\n"
          ]
        }
      ],
      "source": [
        "!time wget http://83.149.211.146:23194/~ivan/data/hse_teaching/rna_seq_2021.tgz"
      ]
    },
    {
      "cell_type": "markdown",
      "metadata": {
        "id": "HfHLUYCUQxyB"
      },
      "source": [
        "Распаковываем архив:"
      ]
    },
    {
      "cell_type": "code",
      "execution_count": 100,
      "metadata": {
        "colab": {
          "base_uri": "https://localhost:8080/"
        },
        "id": "Olp-zroXQ1sY",
        "outputId": "6d5f1e5b-0bdd-46ad-cd7d-b6297a0f7a46"
      },
      "outputs": [
        {
          "output_type": "stream",
          "name": "stdout",
          "text": [
            "rna_seq_2021/\n",
            "rna_seq_2021/_tmp.txt\n",
            "rna_seq_2021/SRR3414629_1.fastq\n",
            "rna_seq_2021/SRR3414636_1.fastq\n",
            "rna_seq_2021/SRR3414631_1.fastq\n",
            "rna_seq_2021/SRR3414635_1.fastq\n",
            "rna_seq_2021/SRR3414637_1.fastq\n",
            "rna_seq_2021/SRR3414630_1.fastq\n",
            "\n",
            "real\t5m15.256s\n",
            "user\t3m55.076s\n",
            "sys\t1m44.392s\n"
          ]
        }
      ],
      "source": [
        "!time tar -xzvf rna_seq_2021.tgz"
      ]
    },
    {
      "cell_type": "markdown",
      "metadata": {
        "id": "HAn1rivS0BME"
      },
      "source": [
        "## Скачиваем геном мыши mm10 (проиндексированный для HISAT2)"
      ]
    },
    {
      "cell_type": "code",
      "execution_count": 14,
      "metadata": {
        "colab": {
          "base_uri": "https://localhost:8080/"
        },
        "id": "wWfSQMGZ03Ch",
        "outputId": "c584accd-cee3-4f59-aa82-f52207822b64"
      },
      "outputs": [
        {
          "output_type": "stream",
          "name": "stdout",
          "text": [
            "--2022-12-05 13:51:21--  https://genome-idx.s3.amazonaws.com/hisat/mm10_genome.tar.gz\n",
            "Resolving genome-idx.s3.amazonaws.com (genome-idx.s3.amazonaws.com)... 52.217.173.1, 54.231.236.81, 52.216.20.0, ...\n",
            "Connecting to genome-idx.s3.amazonaws.com (genome-idx.s3.amazonaws.com)|52.217.173.1|:443... connected.\n",
            "HTTP request sent, awaiting response... 200 OK\n",
            "Length: 3804366597 (3.5G) [binary/octet-stream]\n",
            "Saving to: ‘mm10_genome.tar.gz’\n",
            "\n",
            "mm10_genome.tar.gz  100%[===================>]   3.54G  28.2MB/s    in 1m 40s  \n",
            "\n",
            "2022-12-05 13:53:01 (36.3 MB/s) - ‘mm10_genome.tar.gz’ saved [3804366597/3804366597]\n",
            "\n"
          ]
        }
      ],
      "source": [
        "!wget https://genome-idx.s3.amazonaws.com/hisat/mm10_genome.tar.gz"
      ]
    },
    {
      "cell_type": "code",
      "execution_count": 15,
      "metadata": {
        "colab": {
          "base_uri": "https://localhost:8080/"
        },
        "id": "9IKaXKp7eLjq",
        "outputId": "c5c60af8-a8bb-4a49-ede6-be15ddba19d3"
      },
      "outputs": [
        {
          "output_type": "stream",
          "name": "stdout",
          "text": [
            "mm10/\n",
            "mm10/genome.8.ht2\n",
            "mm10/genome.5.ht2\n",
            "mm10/make_mm10.sh\n",
            "mm10/genome.7.ht2\n",
            "mm10/genome.6.ht2\n",
            "mm10/genome.4.ht2\n",
            "mm10/genome.3.ht2\n",
            "mm10/genome.1.ht2\n",
            "mm10/genome.2.ht2\n"
          ]
        }
      ],
      "source": [
        "!tar -xzvf mm10_genome.tar.gz"
      ]
    },
    {
      "cell_type": "markdown",
      "metadata": {
        "id": "sGULD5P70tvT"
      },
      "source": [
        "## Скачиваем аннотацию генов GENCODE для генома мыши mm10"
      ]
    },
    {
      "cell_type": "code",
      "execution_count": 98,
      "metadata": {
        "colab": {
          "base_uri": "https://localhost:8080/"
        },
        "id": "P8SxMZMC3Aw-",
        "outputId": "33183c4a-9809-49b2-aa7d-d480bfbb6cf6"
      },
      "outputs": [
        {
          "output_type": "stream",
          "name": "stdout",
          "text": [
            "--2022-12-05 18:53:27--  http://ftp.ebi.ac.uk/pub/databases/gencode/Gencode_mouse/release_M25/gencode.vM25.annotation.gtf.gz\n",
            "Resolving ftp.ebi.ac.uk (ftp.ebi.ac.uk)... 193.62.193.138\n",
            "Connecting to ftp.ebi.ac.uk (ftp.ebi.ac.uk)|193.62.193.138|:80... connected.\n",
            "HTTP request sent, awaiting response... 200 OK\n",
            "Length: 28542432 (27M) [application/x-gzip]\n",
            "Saving to: ‘gencode.vM25.annotation.gtf.gz’\n",
            "\n",
            "  gencode.vM25.anno  89%[================>   ]  24.48M  13.7MB/s               ^C\n"
          ]
        }
      ],
      "source": [
        "!wget http://ftp.ebi.ac.uk/pub/databases/gencode/Gencode_mouse/release_M25/gencode.vM25.annotation.gtf.gz"
      ]
    },
    {
      "cell_type": "code",
      "execution_count": 99,
      "metadata": {
        "colab": {
          "base_uri": "https://localhost:8080/"
        },
        "id": "K9RerBtX8iFF",
        "outputId": "1435799d-920f-4c01-e1aa-e3361b96459e"
      },
      "outputs": [
        {
          "output_type": "stream",
          "name": "stdout",
          "text": [
            "gzip: gencode.vM25.annotation.gtf already exists; do you wish to overwrite (y or n)? n\n",
            "\tnot overwritten\n"
          ]
        }
      ],
      "source": [
        "!gzip -d gencode.vM25.annotation.gtf.gz"
      ]
    },
    {
      "cell_type": "markdown",
      "metadata": {
        "id": "zzucvMQkzzs9"
      },
      "source": [
        "# Выравнивание чтений"
      ]
    },
    {
      "cell_type": "markdown",
      "metadata": {
        "id": "bH70xoP87343"
      },
      "source": [
        "**Ниже приведены примеры запуска только для одного файла. Вам следует сделать это для всех 6-ти файлов.**"
      ]
    },
    {
      "cell_type": "markdown",
      "metadata": {
        "id": "TRBfl7NL3xgN"
      },
      "source": [
        "* Для каждого образца запускаем FastQC. Скачиваем полученные html файлы и проверяем есть ли проблемы с файлами. Можно также установить multiqc и получить объединенный .html файл. Полученные результаты приводим в отчете на Github-е.\n",
        "\n"
      ]
    },
    {
      "cell_type": "code",
      "execution_count": null,
      "metadata": {
        "id": "YVLlGQlSPILg"
      },
      "outputs": [],
      "source": [
        "!pip install multiqc"
      ]
    },
    {
      "cell_type": "code",
      "execution_count": null,
      "metadata": {
        "id": "ABkz3YC8cjhD"
      },
      "outputs": [],
      "source": [
        "!./FastQC/fastqc  /content/rna_seq_2021/SRR3414629_1.fastq\n",
        "\n",
        "!./FastQC/fastqc  /content/rna_seq_2021/SRR3414630_1.fastq\n",
        "\n",
        "!./FastQC/fastqc  /content/rna_seq_2021/SRR3414631_1.fastq\n",
        "\n",
        "!./FastQC/fastqc  /content/rna_seq_2021/SRR3414635_1.fastq\n",
        "\n",
        "!./FastQC/fastqc  /content/rna_seq_2021/SRR3414636_1.fastq\n",
        "\n",
        "!./FastQC/fastqc  /content/rna_seq_2021/SRR3414637_1.fastq"
      ]
    },
    {
      "cell_type": "code",
      "execution_count": 20,
      "metadata": {
        "colab": {
          "base_uri": "https://localhost:8080/"
        },
        "id": "A-UJeX96PN-h",
        "outputId": "caa7d31d-1c3b-4f5a-d035-bd5e25b63e49"
      },
      "outputs": [
        {
          "output_type": "stream",
          "name": "stdout",
          "text": [
            "\n",
            "  \u001b[34m/\u001b[0m\u001b[32m/\u001b[0m\u001b[31m/\u001b[0m \u001b]8;id=141565;https://multiqc.info\u001b\\\u001b[1mMultiQC\u001b[0m\u001b]8;;\u001b\\ 🔍 \u001b[2m| v1.13\u001b[0m\n",
            "\n",
            "\u001b[34m|           multiqc\u001b[0m | Search path : /content\n",
            "\u001b[2K\u001b[34m|\u001b[0m         \u001b[34msearching\u001b[0m | \u001b[90m━━━━━━━━━━━━━━━━━━━━━━━━━━━━━━━━━━━━━━━━\u001b[0m \u001b[35m100%\u001b[0m \u001b[32m305/305\u001b[0m  \n",
            "\u001b[?25h\u001b[34m|            fastqc\u001b[0m | Found 6 reports\n",
            "\u001b[34m|           multiqc\u001b[0m | Compressing plot data\n",
            "\u001b[34m|           multiqc\u001b[0m | Report      : concatenated_report.html\n",
            "\u001b[34m|           multiqc\u001b[0m | Data        : concatenated_report_data\n",
            "\u001b[34m|           multiqc\u001b[0m | MultiQC complete\n"
          ]
        }
      ],
      "source": [
        "!multiqc . --filename concatenated_report.html"
      ]
    },
    {
      "cell_type": "markdown",
      "metadata": {
        "id": "b23N89JW4Eeg"
      },
      "source": [
        "* Запускаем HISAT2 и картируем все чтения на геном мыши.\n",
        "* **Для одного образца программа работает 10-15 мин**"
      ]
    },
    {
      "cell_type": "markdown",
      "source": [
        "### SRR3414629\n",
        "\n"
      ],
      "metadata": {
        "id": "lt6tzCTCn4n8"
      }
    },
    {
      "cell_type": "code",
      "execution_count": 21,
      "metadata": {
        "colab": {
          "base_uri": "https://localhost:8080/"
        },
        "id": "us6WSL8Ge6U_",
        "outputId": "9cfb47fc-0aff-4eb9-dd03-2276879e738b"
      },
      "outputs": [
        {
          "output_type": "stream",
          "name": "stdout",
          "text": [
            "\n",
            "real\t11m33.047s\n",
            "user\t19m57.710s\n",
            "sys\t1m24.396s\n"
          ]
        }
      ],
      "source": [
        "!time hisat2 -p 3 -x mm10/genome -U rna_seq_2021/SRR3414629_1.fastq -S SRR3414629_1.sam  2>  SRR3414629.hisat"
      ]
    },
    {
      "cell_type": "code",
      "execution_count": 22,
      "metadata": {
        "colab": {
          "base_uri": "https://localhost:8080/"
        },
        "id": "IMvdwqr0_BA1",
        "outputId": "05684b4c-3b81-4ce3-99b2-0f311edf8819"
      },
      "outputs": [
        {
          "output_type": "stream",
          "name": "stdout",
          "text": [
            "21106089 reads; of these:\n",
            "  21106089 (100.00%) were unpaired; of these:\n",
            "    595976 (2.82%) aligned 0 times\n",
            "    18375888 (87.06%) aligned exactly 1 time\n",
            "    2134225 (10.11%) aligned >1 times\n",
            "97.18% overall alignment rate\n"
          ]
        }
      ],
      "source": [
        "!cat SRR3414629.hisat"
      ]
    },
    {
      "cell_type": "code",
      "source": [
        "!grep -P '^@|NH:i:1$' SRR3414629_1.sam > SRR3414629.uniq.sam"
      ],
      "metadata": {
        "id": "XgxmjU5jnw7I"
      },
      "execution_count": 23,
      "outputs": []
    },
    {
      "cell_type": "code",
      "source": [
        "!grep -v '^@' SRR3414629.uniq.sam | wc -l"
      ],
      "metadata": {
        "colab": {
          "base_uri": "https://localhost:8080/"
        },
        "id": "Q5MHyTpInyJB",
        "outputId": "1aa5aa90-4aa4-4068-f6f1-5aa21de3929d"
      },
      "execution_count": 24,
      "outputs": [
        {
          "output_type": "stream",
          "name": "stdout",
          "text": [
            "18375888\n"
          ]
        }
      ]
    },
    {
      "cell_type": "code",
      "source": [
        "!rm SRR3414629.hisat\n",
        "!rm rna_seq_2021/SRR3414629_1.fastq"
      ],
      "metadata": {
        "id": "U7EARvY6pPqO"
      },
      "execution_count": 29,
      "outputs": []
    },
    {
      "cell_type": "code",
      "source": [
        "!pip uninstall numpy\n",
        "!ypip install numpy"
      ],
      "metadata": {
        "id": "j3Dm5Orev7yd"
      },
      "execution_count": null,
      "outputs": []
    },
    {
      "cell_type": "code",
      "source": [
        "!time htseq-count --format=sam --stranded=no SRR3414629.uniq.sam  gencode.vM25.annotation.gtf > SRR3414629.counts"
      ],
      "metadata": {
        "id": "oxXeJm9kpn82"
      },
      "execution_count": null,
      "outputs": []
    },
    {
      "cell_type": "code",
      "source": [
        "! grep '^__' SRR3414629.counts"
      ],
      "metadata": {
        "colab": {
          "base_uri": "https://localhost:8080/"
        },
        "id": "zv-BSlDBqEDw",
        "outputId": "607ee27b-ec37-4124-b95f-5863abcca3ac"
      },
      "execution_count": 38,
      "outputs": [
        {
          "output_type": "stream",
          "name": "stdout",
          "text": [
            "__no_feature\t1604107\n",
            "__ambiguous\t722172\n",
            "__too_low_aQual\t0\n",
            "__not_aligned\t0\n",
            "__alignment_not_unique\t0\n"
          ]
        }
      ]
    },
    {
      "cell_type": "code",
      "source": [
        "print(f'общее число чтений для SRR3414629: {18375888 - 1604107 - 722172}')"
      ],
      "metadata": {
        "colab": {
          "base_uri": "https://localhost:8080/"
        },
        "id": "9cchU5Tztyof",
        "outputId": "8829325b-88ba-490c-bf28-0c3920e558fc"
      },
      "execution_count": 39,
      "outputs": [
        {
          "output_type": "stream",
          "name": "stdout",
          "text": [
            "общее число чтений для SRR3414629: 16049609\n"
          ]
        }
      ]
    },
    {
      "cell_type": "code",
      "source": [
        "!rm -v SRR3414629_1.sam\n",
        "!rm -v SRR3414629.uniq.sam "
      ],
      "metadata": {
        "colab": {
          "base_uri": "https://localhost:8080/"
        },
        "id": "uGr7b-gmqgSB",
        "outputId": "d754ae03-b812-45c7-cf4a-f1e04f96809f"
      },
      "execution_count": 40,
      "outputs": [
        {
          "output_type": "stream",
          "name": "stdout",
          "text": [
            "removed 'SRR3414629_1.sam'\n",
            "rm: cannot remove 'SRR3414630.uniq.sam': No such file or directory\n"
          ]
        }
      ]
    },
    {
      "cell_type": "markdown",
      "source": [
        "### SRR3414630"
      ],
      "metadata": {
        "id": "UOMYOhxroFtA"
      }
    },
    {
      "cell_type": "code",
      "source": [
        "!time hisat2 -p 3 -x mm10/genome -U rna_seq_2021/SRR3414630_1.fastq -S SRR3414630_1.sam  2>  SRR3414630.hisat\n"
      ],
      "metadata": {
        "colab": {
          "base_uri": "https://localhost:8080/"
        },
        "id": "fohk8B9tnYpG",
        "outputId": "cb3f3af8-e92b-415f-9f15-671b3c3f8fb5"
      },
      "execution_count": 41,
      "outputs": [
        {
          "output_type": "stream",
          "name": "stdout",
          "text": [
            "\n",
            "real\t8m53.837s\n",
            "user\t14m29.134s\n",
            "sys\t1m5.136s\n"
          ]
        }
      ]
    },
    {
      "cell_type": "code",
      "execution_count": 42,
      "metadata": {
        "colab": {
          "base_uri": "https://localhost:8080/"
        },
        "id": "XeRunmjc108L",
        "outputId": "928bbe94-bb92-428b-a872-1faa98a40906"
      },
      "outputs": [
        {
          "output_type": "stream",
          "name": "stdout",
          "text": [
            "15244711 reads; of these:\n",
            "  15244711 (100.00%) were unpaired; of these:\n",
            "    412031 (2.70%) aligned 0 times\n",
            "    13186139 (86.50%) aligned exactly 1 time\n",
            "    1646541 (10.80%) aligned >1 times\n",
            "97.30% overall alignment rate\n"
          ]
        }
      ],
      "source": [
        "!cat SRR3414630.hisat"
      ]
    },
    {
      "cell_type": "code",
      "source": [
        "!grep -P '^@|NH:i:1$' SRR3414630_1.sam > SRR3414630.uniq.sam\n",
        "!grep -v '^@' SRR3414630.uniq.sam | wc -l"
      ],
      "metadata": {
        "colab": {
          "base_uri": "https://localhost:8080/"
        },
        "id": "coPNd_QS2y0K",
        "outputId": "682f90bd-e036-471f-bd61-4bd67b1b317e"
      },
      "execution_count": 43,
      "outputs": [
        {
          "output_type": "stream",
          "name": "stdout",
          "text": [
            "13186139\n"
          ]
        }
      ]
    },
    {
      "cell_type": "code",
      "source": [
        "!rm SRR3414630.hisat\n",
        "!rm rna_seq_2021/SRR3414630_1.fastq"
      ],
      "metadata": {
        "id": "FuREJJOB26iK"
      },
      "execution_count": 45,
      "outputs": []
    },
    {
      "cell_type": "code",
      "source": [
        "!time htseq-count --format=sam --stranded=no SRR3414630.uniq.sam  gencode.vM25.annotation.gtf > SRR3414630.counts"
      ],
      "metadata": {
        "id": "XpAYGe6A2-SS"
      },
      "execution_count": null,
      "outputs": []
    },
    {
      "cell_type": "code",
      "source": [
        "! grep '^__' SRR3414630.counts"
      ],
      "metadata": {
        "colab": {
          "base_uri": "https://localhost:8080/"
        },
        "id": "TL6TGpsd3EPZ",
        "outputId": "cd60e88f-3d32-441c-e593-c229ad377e39"
      },
      "execution_count": 47,
      "outputs": [
        {
          "output_type": "stream",
          "name": "stdout",
          "text": [
            "__no_feature\t1240295\n",
            "__ambiguous\t480520\n",
            "__too_low_aQual\t0\n",
            "__not_aligned\t0\n",
            "__alignment_not_unique\t0\n"
          ]
        }
      ]
    },
    {
      "cell_type": "code",
      "source": [
        "print(f'общее число чтений для SRR3414630: {13186139 - 1240295 - 480520}')"
      ],
      "metadata": {
        "colab": {
          "base_uri": "https://localhost:8080/"
        },
        "id": "jsMXE6uk3KHd",
        "outputId": "0b87d26f-6609-4f67-ae1f-7857652378e6"
      },
      "execution_count": 48,
      "outputs": [
        {
          "output_type": "stream",
          "name": "stdout",
          "text": [
            "общее число чтений для SRR3414630: 11465324\n"
          ]
        }
      ]
    },
    {
      "cell_type": "code",
      "source": [
        "!rm -v SRR3414630_1.sam\n",
        "!rm -v SRR3414630.uniq.sam "
      ],
      "metadata": {
        "colab": {
          "base_uri": "https://localhost:8080/"
        },
        "id": "_yeaY3Xg3Nld",
        "outputId": "dd531e88-e7a8-49db-d92e-30d6d953a22d"
      },
      "execution_count": 49,
      "outputs": [
        {
          "output_type": "stream",
          "name": "stdout",
          "text": [
            "removed 'SRR3414630_1.sam'\n",
            "removed 'SRR3414630.uniq.sam'\n"
          ]
        }
      ]
    },
    {
      "cell_type": "markdown",
      "source": [
        "### SRR3414631"
      ],
      "metadata": {
        "id": "Qbe3Rb3j2WqH"
      }
    },
    {
      "cell_type": "code",
      "source": [
        "!time hisat2 -p 3 -x mm10/genome -U rna_seq_2021/SRR3414631_1.fastq -S SRR3414631_1.sam  2>  SRR3414631.hisat\n"
      ],
      "metadata": {
        "colab": {
          "base_uri": "https://localhost:8080/"
        },
        "id": "L9pzfYfane9_",
        "outputId": "b4457451-c321-4e67-da25-a84884733c3c"
      },
      "execution_count": 50,
      "outputs": [
        {
          "output_type": "stream",
          "name": "stdout",
          "text": [
            "\n",
            "real\t13m35.761s\n",
            "user\t23m39.498s\n",
            "sys\t1m41.011s\n"
          ]
        }
      ]
    },
    {
      "cell_type": "code",
      "execution_count": 51,
      "metadata": {
        "colab": {
          "base_uri": "https://localhost:8080/"
        },
        "id": "EiG0tbXv11Gj",
        "outputId": "5c9ee6ba-129c-4a60-ab89-423c299f8d82"
      },
      "outputs": [
        {
          "output_type": "stream",
          "name": "stdout",
          "text": [
            "24244069 reads; of these:\n",
            "  24244069 (100.00%) were unpaired; of these:\n",
            "    696383 (2.87%) aligned 0 times\n",
            "    20928945 (86.33%) aligned exactly 1 time\n",
            "    2618741 (10.80%) aligned >1 times\n",
            "97.13% overall alignment rate\n"
          ]
        }
      ],
      "source": [
        "!cat SRR3414631.hisat"
      ]
    },
    {
      "cell_type": "code",
      "source": [
        "!grep -P '^@|NH:i:1$' SRR3414631_1.sam > SRR3414631.uniq.sam\n",
        "!grep -v '^@' SRR3414631.uniq.sam | wc -l"
      ],
      "metadata": {
        "colab": {
          "base_uri": "https://localhost:8080/"
        },
        "id": "EMUdLi633Vcs",
        "outputId": "03d64c98-010b-4211-bab9-0a39e72fac5d"
      },
      "execution_count": 52,
      "outputs": [
        {
          "output_type": "stream",
          "name": "stdout",
          "text": [
            "20928945\n"
          ]
        }
      ]
    },
    {
      "cell_type": "code",
      "source": [
        "!rm SRR3414631.hisat\n",
        "!rm rna_seq_2021/SRR3414631_1.fastq"
      ],
      "metadata": {
        "colab": {
          "base_uri": "https://localhost:8080/"
        },
        "id": "xshLSgvN3c77",
        "outputId": "81e7f74f-3104-488c-f4f2-2695ff8e172d"
      },
      "execution_count": 106,
      "outputs": [
        {
          "output_type": "stream",
          "name": "stdout",
          "text": [
            "rm: cannot remove 'SRR3414631.hisat': No such file or directory\n"
          ]
        }
      ]
    },
    {
      "cell_type": "code",
      "source": [
        "!time htseq-count --format=sam --stranded=no SRR3414631.uniq.sam  gencode.vM25.annotation.gtf > SRR3414631.counts"
      ],
      "metadata": {
        "id": "wVMkhJmq3jOo"
      },
      "execution_count": null,
      "outputs": []
    },
    {
      "cell_type": "code",
      "source": [
        "! grep '^__' SRR3414631.counts"
      ],
      "metadata": {
        "colab": {
          "base_uri": "https://localhost:8080/"
        },
        "id": "KoXUqvHU3q1_",
        "outputId": "82f9c457-95e0-4750-a1dd-f141ae7776d7"
      },
      "execution_count": 55,
      "outputs": [
        {
          "output_type": "stream",
          "name": "stdout",
          "text": [
            "__no_feature\t1700354\n",
            "__ambiguous\t819740\n",
            "__too_low_aQual\t0\n",
            "__not_aligned\t0\n",
            "__alignment_not_unique\t0\n"
          ]
        }
      ]
    },
    {
      "cell_type": "code",
      "source": [
        "print(f'общее число чтений для SRR3414631: {20928945 - 1700354 - 819740}')"
      ],
      "metadata": {
        "colab": {
          "base_uri": "https://localhost:8080/"
        },
        "id": "xesMiEm33sfw",
        "outputId": "434e5093-fb96-4c33-80f2-fe5c7cd700f6"
      },
      "execution_count": 56,
      "outputs": [
        {
          "output_type": "stream",
          "name": "stdout",
          "text": [
            "общее число чтений для SRR3414631: 18408851\n"
          ]
        }
      ]
    },
    {
      "cell_type": "code",
      "source": [
        "!rm -v SRR3414631_1.sam\n",
        "!rm -v SRR3414631.uniq.sam "
      ],
      "metadata": {
        "colab": {
          "base_uri": "https://localhost:8080/"
        },
        "id": "tSGmbY3l3zCD",
        "outputId": "1fcb3359-c21f-45cc-b131-c3a2c8d498d2"
      },
      "execution_count": 57,
      "outputs": [
        {
          "output_type": "stream",
          "name": "stdout",
          "text": [
            "removed 'SRR3414631_1.sam'\n",
            "removed 'SRR3414631.uniq.sam'\n"
          ]
        }
      ]
    },
    {
      "cell_type": "markdown",
      "source": [
        "### SRR3414635"
      ],
      "metadata": {
        "id": "0nv5NebO2lRD"
      }
    },
    {
      "cell_type": "code",
      "source": [
        "!time hisat2 -p 3 -x mm10/genome -U rna_seq_2021/SRR3414635_1.fastq -S SRR3414635_1.sam  2>  SRR3414635.hisat"
      ],
      "metadata": {
        "colab": {
          "base_uri": "https://localhost:8080/"
        },
        "id": "E_9uGF2XnjWH",
        "outputId": "4cb02a61-b752-48f0-ff9b-92383d3c9fae"
      },
      "execution_count": 58,
      "outputs": [
        {
          "output_type": "stream",
          "name": "stdout",
          "text": [
            "\n",
            "real\t11m27.122s\n",
            "user\t19m44.079s\n",
            "sys\t1m24.535s\n"
          ]
        }
      ]
    },
    {
      "cell_type": "code",
      "execution_count": 59,
      "metadata": {
        "colab": {
          "base_uri": "https://localhost:8080/"
        },
        "id": "daiG65Zf11Pb",
        "outputId": "3fc474e5-b724-4599-c924-7edad4797d75"
      },
      "outputs": [
        {
          "output_type": "stream",
          "name": "stdout",
          "text": [
            "20956475 reads; of these:\n",
            "  20956475 (100.00%) were unpaired; of these:\n",
            "    560610 (2.68%) aligned 0 times\n",
            "    18428317 (87.94%) aligned exactly 1 time\n",
            "    1967548 (9.39%) aligned >1 times\n",
            "97.32% overall alignment rate\n"
          ]
        }
      ],
      "source": [
        "!cat SRR3414635.hisat"
      ]
    },
    {
      "cell_type": "code",
      "source": [
        "!grep -P '^@|NH:i:1$' SRR3414635_1.sam > SRR3414635.uniq.sam\n",
        "!grep -v '^@' SRR3414635.uniq.sam | wc -l"
      ],
      "metadata": {
        "colab": {
          "base_uri": "https://localhost:8080/"
        },
        "id": "3JhVey4L3-HB",
        "outputId": "dac12973-d341-41a0-ae7b-7c4db6b572db"
      },
      "execution_count": 60,
      "outputs": [
        {
          "output_type": "stream",
          "name": "stdout",
          "text": [
            "18428317\n"
          ]
        }
      ]
    },
    {
      "cell_type": "code",
      "source": [
        "!rm SRR3414635.hisat\n",
        "!rm rna_seq_2021/SRR3414635_1.fastq"
      ],
      "metadata": {
        "colab": {
          "base_uri": "https://localhost:8080/"
        },
        "id": "h8tp7jXx4C00",
        "outputId": "47447595-8820-4adb-ed10-e80bb7876fa7"
      },
      "execution_count": 105,
      "outputs": [
        {
          "output_type": "stream",
          "name": "stdout",
          "text": [
            "rm: cannot remove 'SRR3414635.hisat': No such file or directory\n"
          ]
        }
      ]
    },
    {
      "cell_type": "code",
      "source": [
        "!time htseq-count --format=sam --stranded=no SRR3414635.uniq.sam  gencode.vM25.annotation.gtf > SRR3414635.counts"
      ],
      "metadata": {
        "id": "E_t2haa14WBd"
      },
      "execution_count": null,
      "outputs": []
    },
    {
      "cell_type": "code",
      "source": [
        "! grep '^__' SRR3414635.counts"
      ],
      "metadata": {
        "colab": {
          "base_uri": "https://localhost:8080/"
        },
        "id": "srF_w3nn4dTb",
        "outputId": "70eee806-34a6-452a-a06f-0866dfbb1aa4"
      },
      "execution_count": 63,
      "outputs": [
        {
          "output_type": "stream",
          "name": "stdout",
          "text": [
            "__no_feature\t1392186\n",
            "__ambiguous\t760134\n",
            "__too_low_aQual\t0\n",
            "__not_aligned\t0\n",
            "__alignment_not_unique\t0\n"
          ]
        }
      ]
    },
    {
      "cell_type": "code",
      "source": [
        "print(f'общее число чтений для SRR3414635: {18428317 - 1392186 - 760134}')"
      ],
      "metadata": {
        "colab": {
          "base_uri": "https://localhost:8080/"
        },
        "id": "wNG2KGky4gWd",
        "outputId": "065f6e99-fcef-4651-f885-c172ce98a1b1"
      },
      "execution_count": 64,
      "outputs": [
        {
          "output_type": "stream",
          "name": "stdout",
          "text": [
            "общее число чтений для SRR3414635: 16275997\n"
          ]
        }
      ]
    },
    {
      "cell_type": "code",
      "source": [
        "!rm -v SRR3414635_1.sam\n",
        "!rm -v SRR3414635.uniq.sam "
      ],
      "metadata": {
        "colab": {
          "base_uri": "https://localhost:8080/"
        },
        "id": "jk150MI24oCe",
        "outputId": "e257235e-1b58-41ce-dd14-ae68887c608e"
      },
      "execution_count": 65,
      "outputs": [
        {
          "output_type": "stream",
          "name": "stdout",
          "text": [
            "removed 'SRR3414635_1.sam'\n",
            "removed 'SRR3414635.uniq.sam'\n"
          ]
        }
      ]
    },
    {
      "cell_type": "markdown",
      "source": [
        "### SRR3414636"
      ],
      "metadata": {
        "id": "Rtc3asQb2rf0"
      }
    },
    {
      "cell_type": "code",
      "source": [
        "!time hisat2 -p 3 -x mm10/genome -U rna_seq_2021/SRR3414636_1.fastq -S SRR3414636_1.sam  2>  SRR3414636.hisat"
      ],
      "metadata": {
        "colab": {
          "base_uri": "https://localhost:8080/"
        },
        "id": "NSouJob-nk45",
        "outputId": "6c5c7b47-008c-4457-c1e3-8d9c86afdbbd"
      },
      "execution_count": 66,
      "outputs": [
        {
          "output_type": "stream",
          "name": "stdout",
          "text": [
            "\n",
            "real\t11m3.249s\n",
            "user\t18m59.165s\n",
            "sys\t1m22.212s\n"
          ]
        }
      ]
    },
    {
      "cell_type": "code",
      "execution_count": 67,
      "metadata": {
        "colab": {
          "base_uri": "https://localhost:8080/"
        },
        "id": "2OOPcvKU11Xg",
        "outputId": "c58e9b5a-7c00-44cb-f516-b6f891e47ca5"
      },
      "outputs": [
        {
          "output_type": "stream",
          "name": "stdout",
          "text": [
            "20307147 reads; of these:\n",
            "  20307147 (100.00%) were unpaired; of these:\n",
            "    550088 (2.71%) aligned 0 times\n",
            "    17825380 (87.78%) aligned exactly 1 time\n",
            "    1931679 (9.51%) aligned >1 times\n",
            "97.29% overall alignment rate\n"
          ]
        }
      ],
      "source": [
        "!cat SRR3414636.hisat"
      ]
    },
    {
      "cell_type": "code",
      "source": [
        "!grep -P '^@|NH:i:1$' SRR3414636_1.sam > SRR3414635.uniq.sam\n",
        "!grep -v '^@' SRR3414636.uniq.sam | wc -l"
      ],
      "metadata": {
        "colab": {
          "base_uri": "https://localhost:8080/"
        },
        "id": "9hfaPJly4rKh",
        "outputId": "aaec595e-93de-4bde-cd6a-6df8d4a5fc17"
      },
      "execution_count": 68,
      "outputs": [
        {
          "output_type": "stream",
          "name": "stdout",
          "text": [
            "grep: SRR3414636.uniq.sam: No such file or directory\n",
            "0\n"
          ]
        }
      ]
    },
    {
      "cell_type": "code",
      "source": [
        "!rm SRR3414636.hisat\n",
        "!rm rna_seq_2021/SRR3414636_1.fastq"
      ],
      "metadata": {
        "colab": {
          "base_uri": "https://localhost:8080/"
        },
        "id": "7ZztvVjg4wre",
        "outputId": "e98d5f19-67bc-4127-b778-2a5a043d02f4"
      },
      "execution_count": 104,
      "outputs": [
        {
          "output_type": "stream",
          "name": "stdout",
          "text": [
            "rm: cannot remove 'SRR3414636.hisat': No such file or directory\n"
          ]
        }
      ]
    },
    {
      "cell_type": "code",
      "source": [
        "!time htseq-count --format=sam --stranded=no SRR3414636.uniq.sam  gencode.vM25.annotation.gtf > SRR3414636.counts"
      ],
      "metadata": {
        "colab": {
          "base_uri": "https://localhost:8080/"
        },
        "id": "QQ0wqzNX40qN",
        "outputId": "5201b7c2-8b8c-4a2d-b4b0-49cdd853cd03"
      },
      "execution_count": 70,
      "outputs": [
        {
          "output_type": "stream",
          "name": "stdout",
          "text": [
            "[E::hts_open_format] Failed to open file \"SRR3414636.uniq.sam\" : No such file or directory\n",
            "Traceback (most recent call last):\n",
            "  File \"/usr/local/bin/htseq-count\", line 5, in <module>\n",
            "    HTSeq.scripts.count.main()\n",
            "  File \"/usr/local/lib/python3.8/dist-packages/HTSeq/scripts/count.py\", line 473, in main\n",
            "    args = _parse_sanitize_cmdline_arguments()\n",
            "  File \"/usr/local/lib/python3.8/dist-packages/HTSeq/scripts/count.py\", line 465, in _parse_sanitize_cmdline_arguments\n",
            "    _check_sam_files(args.samfilenames)\n",
            "  File \"/usr/local/lib/python3.8/dist-packages/HTSeq/scripts/count.py\", line 158, in _check_sam_files\n",
            "    with pysam.AlignmentFile(sam_filename, \"r\") as sf:\n",
            "  File \"pysam/libcalignmentfile.pyx\", line 751, in pysam.libcalignmentfile.AlignmentFile.__cinit__\n",
            "  File \"pysam/libcalignmentfile.pyx\", line 950, in pysam.libcalignmentfile.AlignmentFile._open\n",
            "FileNotFoundError: [Errno 2] could not open alignment file `SRR3414636.uniq.sam`: No such file or directory\n",
            "\n",
            "real\t0m0.820s\n",
            "user\t0m0.224s\n",
            "sys\t0m0.158s\n"
          ]
        }
      ]
    },
    {
      "cell_type": "code",
      "source": [
        "! grep '^__' SRR3414636.counts"
      ],
      "metadata": {
        "id": "ydZ3j5Ey430G"
      },
      "execution_count": 71,
      "outputs": []
    },
    {
      "cell_type": "code",
      "source": [
        "print(f'общее число чтений для SRR3414636: {17825380 - 1332692 - 735108}')"
      ],
      "metadata": {
        "colab": {
          "base_uri": "https://localhost:8080/"
        },
        "id": "7505-Vk-46ET",
        "outputId": "fab8fec6-fbef-4a1d-f6c8-2956fc6580e5"
      },
      "execution_count": 72,
      "outputs": [
        {
          "output_type": "stream",
          "name": "stdout",
          "text": [
            "общее число чтений для SRR3414636: 15757580\n"
          ]
        }
      ]
    },
    {
      "cell_type": "code",
      "source": [
        "!rm -v SRR3414636_1.sam\n",
        "!rm -v SRR3414636.uniq.sam "
      ],
      "metadata": {
        "colab": {
          "base_uri": "https://localhost:8080/"
        },
        "id": "1yie_dxr488g",
        "outputId": "6db055df-fa08-41fc-f04a-0c10d92c90bb"
      },
      "execution_count": 73,
      "outputs": [
        {
          "output_type": "stream",
          "name": "stdout",
          "text": [
            "removed 'SRR3414636_1.sam'\n",
            "rm: cannot remove 'SRR3414636.uniq.sam': No such file or directory\n"
          ]
        }
      ]
    },
    {
      "cell_type": "markdown",
      "source": [
        "### SRR3414637"
      ],
      "metadata": {
        "id": "ol-ulAaa2ud1"
      }
    },
    {
      "cell_type": "code",
      "source": [
        "!time hisat2 -p 3 -x mm10/genome -U rna_seq_2021/SRR3414637_1.fastq -S SRR3414637_1.sam  2>  SRR3414637.hisat"
      ],
      "metadata": {
        "colab": {
          "base_uri": "https://localhost:8080/"
        },
        "id": "gofaICX8nrLA",
        "outputId": "9359edf7-4bbd-4fb9-fcac-52d8f6d76165"
      },
      "execution_count": 102,
      "outputs": [
        {
          "output_type": "stream",
          "name": "stdout",
          "text": [
            "\n",
            "real\t11m0.890s\n",
            "user\t18m55.470s\n",
            "sys\t1m17.835s\n"
          ]
        }
      ]
    },
    {
      "cell_type": "code",
      "execution_count": 75,
      "metadata": {
        "colab": {
          "base_uri": "https://localhost:8080/"
        },
        "id": "8qHv4cHk11fq",
        "outputId": "4d9a1449-1b73-4a9d-d911-f4d6f339fbc3"
      },
      "outputs": [
        {
          "output_type": "stream",
          "name": "stdout",
          "text": [
            "20385570 reads; of these:\n",
            "  20385570 (100.00%) were unpaired; of these:\n",
            "    538279 (2.64%) aligned 0 times\n",
            "    17844858 (87.54%) aligned exactly 1 time\n",
            "    2002433 (9.82%) aligned >1 times\n",
            "97.36% overall alignment rate\n"
          ]
        }
      ],
      "source": [
        "!cat SRR3414637.hisat"
      ]
    },
    {
      "cell_type": "code",
      "execution_count": 103,
      "metadata": {
        "colab": {
          "base_uri": "https://localhost:8080/"
        },
        "id": "Tebii9gp1AJv",
        "outputId": "f3bdc674-fb35-4a3f-87a5-1d29c5e1399e"
      },
      "outputs": [
        {
          "output_type": "stream",
          "name": "stdout",
          "text": [
            "17844858\n"
          ]
        }
      ],
      "source": [
        "!grep -P '^@|NH:i:1$' SRR3414637_1.sam > SRR3414637.uniq.sam\n",
        "!grep -v '^@' SRR3414637.uniq.sam | wc -l"
      ]
    },
    {
      "cell_type": "code",
      "source": [
        "!rm SRR3414637.hisat\n",
        "!rm rna_seq_2021/SRR3414637_1.fastq"
      ],
      "metadata": {
        "id": "TwyxtHtrZf7P"
      },
      "execution_count": null,
      "outputs": []
    },
    {
      "cell_type": "code",
      "source": [
        "!time htseq-count --format=sam --stranded=no SRR3414637.uniq.sam  gencode.vM25.annotation.gtf > SRR3414637.counts"
      ],
      "metadata": {
        "id": "5oQpIF_kYw84"
      },
      "execution_count": null,
      "outputs": []
    },
    {
      "cell_type": "code",
      "source": [
        "! grep '^__' SRR3414637.counts"
      ],
      "metadata": {
        "colab": {
          "base_uri": "https://localhost:8080/"
        },
        "id": "L6j87jGbY3Tz",
        "outputId": "0a9a03e1-406b-4587-acb1-aff0137c36b5"
      },
      "execution_count": 108,
      "outputs": [
        {
          "output_type": "stream",
          "name": "stdout",
          "text": [
            "__no_feature\t1397650\n",
            "__ambiguous\t710230\n",
            "__too_low_aQual\t0\n",
            "__not_aligned\t0\n",
            "__alignment_not_unique\t0\n"
          ]
        }
      ]
    },
    {
      "cell_type": "code",
      "source": [
        "print(f'общее число чтений для SRR3414637: {17844858 - 1397650 - 710230}')"
      ],
      "metadata": {
        "colab": {
          "base_uri": "https://localhost:8080/"
        },
        "id": "mFoATgFKY8Ym",
        "outputId": "a298a6e5-3a09-49d0-c886-f426d58c9a74"
      },
      "execution_count": 109,
      "outputs": [
        {
          "output_type": "stream",
          "name": "stdout",
          "text": [
            "общее число чтений для SRR3414637: 15736978\n"
          ]
        }
      ]
    },
    {
      "cell_type": "code",
      "source": [
        "!rm -v SRR3414637_1.sam\n",
        "!rm -v SRR3414637.uniq.sam "
      ],
      "metadata": {
        "id": "WwHKCRkiZTGf"
      },
      "execution_count": null,
      "outputs": []
    },
    {
      "cell_type": "markdown",
      "metadata": {
        "id": "lQ-ryqO0BiDp"
      },
      "source": [
        "* Объединям все файлы .counts по генам в один общий файл `ALL.counts`.\n",
        "* В качестве заголовка для каждого образца указывать не его SRR id, а c1, c2, c3 для контрольных образцов и r1, r2, r3 для перепрограммированных образцов.\n",
        "* Загружаем полученный ALL.counts файл в Github репозиторий"
      ]
    },
    {
      "cell_type": "code",
      "execution_count": 110,
      "metadata": {
        "id": "0r7GTzsT34dQ"
      },
      "outputs": [],
      "source": [
        "import pandas as pd\n",
        "from google.colab import files"
      ]
    },
    {
      "cell_type": "code",
      "execution_count": 111,
      "metadata": {
        "id": "LEaemuG83wFm",
        "colab": {
          "base_uri": "https://localhost:8080/",
          "height": 424
        },
        "outputId": "d5fc72e4-6c7b-4425-b4f0-239fda54aab0"
      },
      "outputs": [
        {
          "output_type": "execute_result",
          "data": {
            "text/plain": [
              "                      geneID     c1   c2     c3     r1     r2     r3\n",
              "0       ENSMUSG00000000001.4   3431  NaN   4031   4489   3919   5700\n",
              "1      ENSMUSG00000000003.15      0  NaN      0      0      0      0\n",
              "2      ENSMUSG00000000028.15    150  NaN    152    345    273    468\n",
              "3      ENSMUSG00000000031.16  55526  NaN  56064  64504  33249  64992\n",
              "4      ENSMUSG00000000037.17     41  NaN     52     77     68     87\n",
              "...                      ...    ...  ...    ...    ...    ...    ...\n",
              "55396   ENSMUSG00000118655.1      0  NaN      0      0      1      1\n",
              "55397   ENSMUSG00000118656.1      0  NaN      0      0      0      0\n",
              "55398   ENSMUSG00000118657.1      0  NaN      0      2      0      4\n",
              "55399   ENSMUSG00000118658.1      0  NaN      0      0      0      0\n",
              "55400   ENSMUSG00000118659.1      0  NaN      0      0      0      0\n",
              "\n",
              "[55401 rows x 7 columns]"
            ],
            "text/html": [
              "\n",
              "  <div id=\"df-e74bbae7-146c-4dae-ad5a-09585bb584ff\">\n",
              "    <div class=\"colab-df-container\">\n",
              "      <div>\n",
              "<style scoped>\n",
              "    .dataframe tbody tr th:only-of-type {\n",
              "        vertical-align: middle;\n",
              "    }\n",
              "\n",
              "    .dataframe tbody tr th {\n",
              "        vertical-align: top;\n",
              "    }\n",
              "\n",
              "    .dataframe thead th {\n",
              "        text-align: right;\n",
              "    }\n",
              "</style>\n",
              "<table border=\"1\" class=\"dataframe\">\n",
              "  <thead>\n",
              "    <tr style=\"text-align: right;\">\n",
              "      <th></th>\n",
              "      <th>geneID</th>\n",
              "      <th>c1</th>\n",
              "      <th>c2</th>\n",
              "      <th>c3</th>\n",
              "      <th>r1</th>\n",
              "      <th>r2</th>\n",
              "      <th>r3</th>\n",
              "    </tr>\n",
              "  </thead>\n",
              "  <tbody>\n",
              "    <tr>\n",
              "      <th>0</th>\n",
              "      <td>ENSMUSG00000000001.4</td>\n",
              "      <td>3431</td>\n",
              "      <td>NaN</td>\n",
              "      <td>4031</td>\n",
              "      <td>4489</td>\n",
              "      <td>3919</td>\n",
              "      <td>5700</td>\n",
              "    </tr>\n",
              "    <tr>\n",
              "      <th>1</th>\n",
              "      <td>ENSMUSG00000000003.15</td>\n",
              "      <td>0</td>\n",
              "      <td>NaN</td>\n",
              "      <td>0</td>\n",
              "      <td>0</td>\n",
              "      <td>0</td>\n",
              "      <td>0</td>\n",
              "    </tr>\n",
              "    <tr>\n",
              "      <th>2</th>\n",
              "      <td>ENSMUSG00000000028.15</td>\n",
              "      <td>150</td>\n",
              "      <td>NaN</td>\n",
              "      <td>152</td>\n",
              "      <td>345</td>\n",
              "      <td>273</td>\n",
              "      <td>468</td>\n",
              "    </tr>\n",
              "    <tr>\n",
              "      <th>3</th>\n",
              "      <td>ENSMUSG00000000031.16</td>\n",
              "      <td>55526</td>\n",
              "      <td>NaN</td>\n",
              "      <td>56064</td>\n",
              "      <td>64504</td>\n",
              "      <td>33249</td>\n",
              "      <td>64992</td>\n",
              "    </tr>\n",
              "    <tr>\n",
              "      <th>4</th>\n",
              "      <td>ENSMUSG00000000037.17</td>\n",
              "      <td>41</td>\n",
              "      <td>NaN</td>\n",
              "      <td>52</td>\n",
              "      <td>77</td>\n",
              "      <td>68</td>\n",
              "      <td>87</td>\n",
              "    </tr>\n",
              "    <tr>\n",
              "      <th>...</th>\n",
              "      <td>...</td>\n",
              "      <td>...</td>\n",
              "      <td>...</td>\n",
              "      <td>...</td>\n",
              "      <td>...</td>\n",
              "      <td>...</td>\n",
              "      <td>...</td>\n",
              "    </tr>\n",
              "    <tr>\n",
              "      <th>55396</th>\n",
              "      <td>ENSMUSG00000118655.1</td>\n",
              "      <td>0</td>\n",
              "      <td>NaN</td>\n",
              "      <td>0</td>\n",
              "      <td>0</td>\n",
              "      <td>1</td>\n",
              "      <td>1</td>\n",
              "    </tr>\n",
              "    <tr>\n",
              "      <th>55397</th>\n",
              "      <td>ENSMUSG00000118656.1</td>\n",
              "      <td>0</td>\n",
              "      <td>NaN</td>\n",
              "      <td>0</td>\n",
              "      <td>0</td>\n",
              "      <td>0</td>\n",
              "      <td>0</td>\n",
              "    </tr>\n",
              "    <tr>\n",
              "      <th>55398</th>\n",
              "      <td>ENSMUSG00000118657.1</td>\n",
              "      <td>0</td>\n",
              "      <td>NaN</td>\n",
              "      <td>0</td>\n",
              "      <td>2</td>\n",
              "      <td>0</td>\n",
              "      <td>4</td>\n",
              "    </tr>\n",
              "    <tr>\n",
              "      <th>55399</th>\n",
              "      <td>ENSMUSG00000118658.1</td>\n",
              "      <td>0</td>\n",
              "      <td>NaN</td>\n",
              "      <td>0</td>\n",
              "      <td>0</td>\n",
              "      <td>0</td>\n",
              "      <td>0</td>\n",
              "    </tr>\n",
              "    <tr>\n",
              "      <th>55400</th>\n",
              "      <td>ENSMUSG00000118659.1</td>\n",
              "      <td>0</td>\n",
              "      <td>NaN</td>\n",
              "      <td>0</td>\n",
              "      <td>0</td>\n",
              "      <td>0</td>\n",
              "      <td>0</td>\n",
              "    </tr>\n",
              "  </tbody>\n",
              "</table>\n",
              "<p>55401 rows × 7 columns</p>\n",
              "</div>\n",
              "      <button class=\"colab-df-convert\" onclick=\"convertToInteractive('df-e74bbae7-146c-4dae-ad5a-09585bb584ff')\"\n",
              "              title=\"Convert this dataframe to an interactive table.\"\n",
              "              style=\"display:none;\">\n",
              "        \n",
              "  <svg xmlns=\"http://www.w3.org/2000/svg\" height=\"24px\"viewBox=\"0 0 24 24\"\n",
              "       width=\"24px\">\n",
              "    <path d=\"M0 0h24v24H0V0z\" fill=\"none\"/>\n",
              "    <path d=\"M18.56 5.44l.94 2.06.94-2.06 2.06-.94-2.06-.94-.94-2.06-.94 2.06-2.06.94zm-11 1L8.5 8.5l.94-2.06 2.06-.94-2.06-.94L8.5 2.5l-.94 2.06-2.06.94zm10 10l.94 2.06.94-2.06 2.06-.94-2.06-.94-.94-2.06-.94 2.06-2.06.94z\"/><path d=\"M17.41 7.96l-1.37-1.37c-.4-.4-.92-.59-1.43-.59-.52 0-1.04.2-1.43.59L10.3 9.45l-7.72 7.72c-.78.78-.78 2.05 0 2.83L4 21.41c.39.39.9.59 1.41.59.51 0 1.02-.2 1.41-.59l7.78-7.78 2.81-2.81c.8-.78.8-2.07 0-2.86zM5.41 20L4 18.59l7.72-7.72 1.47 1.35L5.41 20z\"/>\n",
              "  </svg>\n",
              "      </button>\n",
              "      \n",
              "  <style>\n",
              "    .colab-df-container {\n",
              "      display:flex;\n",
              "      flex-wrap:wrap;\n",
              "      gap: 12px;\n",
              "    }\n",
              "\n",
              "    .colab-df-convert {\n",
              "      background-color: #E8F0FE;\n",
              "      border: none;\n",
              "      border-radius: 50%;\n",
              "      cursor: pointer;\n",
              "      display: none;\n",
              "      fill: #1967D2;\n",
              "      height: 32px;\n",
              "      padding: 0 0 0 0;\n",
              "      width: 32px;\n",
              "    }\n",
              "\n",
              "    .colab-df-convert:hover {\n",
              "      background-color: #E2EBFA;\n",
              "      box-shadow: 0px 1px 2px rgba(60, 64, 67, 0.3), 0px 1px 3px 1px rgba(60, 64, 67, 0.15);\n",
              "      fill: #174EA6;\n",
              "    }\n",
              "\n",
              "    [theme=dark] .colab-df-convert {\n",
              "      background-color: #3B4455;\n",
              "      fill: #D2E3FC;\n",
              "    }\n",
              "\n",
              "    [theme=dark] .colab-df-convert:hover {\n",
              "      background-color: #434B5C;\n",
              "      box-shadow: 0px 1px 3px 1px rgba(0, 0, 0, 0.15);\n",
              "      filter: drop-shadow(0px 1px 2px rgba(0, 0, 0, 0.3));\n",
              "      fill: #FFFFFF;\n",
              "    }\n",
              "  </style>\n",
              "\n",
              "      <script>\n",
              "        const buttonEl =\n",
              "          document.querySelector('#df-e74bbae7-146c-4dae-ad5a-09585bb584ff button.colab-df-convert');\n",
              "        buttonEl.style.display =\n",
              "          google.colab.kernel.accessAllowed ? 'block' : 'none';\n",
              "\n",
              "        async function convertToInteractive(key) {\n",
              "          const element = document.querySelector('#df-e74bbae7-146c-4dae-ad5a-09585bb584ff');\n",
              "          const dataTable =\n",
              "            await google.colab.kernel.invokeFunction('convertToInteractive',\n",
              "                                                     [key], {});\n",
              "          if (!dataTable) return;\n",
              "\n",
              "          const docLinkHtml = 'Like what you see? Visit the ' +\n",
              "            '<a target=\"_blank\" href=https://colab.research.google.com/notebooks/data_table.ipynb>data table notebook</a>'\n",
              "            + ' to learn more about interactive tables.';\n",
              "          element.innerHTML = '';\n",
              "          dataTable['output_type'] = 'display_data';\n",
              "          await google.colab.output.renderOutput(dataTable, element);\n",
              "          const docLink = document.createElement('div');\n",
              "          docLink.innerHTML = docLinkHtml;\n",
              "          element.appendChild(docLink);\n",
              "        }\n",
              "      </script>\n",
              "    </div>\n",
              "  </div>\n",
              "  "
            ]
          },
          "metadata": {},
          "execution_count": 111
        }
      ],
      "source": [
        "c1 = pd.read_csv('SRR3414635.counts', sep=\"\\t\",  names=['geneID', 'c1'])\n",
        "c2 = pd.read_csv('SRR3414636.counts', sep=\"\\t\",  names=['geneID', 'c2'])\n",
        "c3 = pd.read_csv('SRR3414637.counts', sep=\"\\t\",  names=['geneID', 'c3'])\n",
        "r1 = pd.read_csv('SRR3414629.counts', sep=\"\\t\",  names=['geneID', 'r1'])\n",
        "r2 = pd.read_csv('SRR3414630.counts', sep=\"\\t\",  names=['geneID', 'r2'])\n",
        "r3 = pd.read_csv('SRR3414631.counts', sep=\"\\t\",  names=['geneID', 'r3'])\n",
        "\n",
        "c1 = c1.merge(c2, how='left', on='geneID')\n",
        "c1 = c1.merge(c3, how='left', on='geneID')\n",
        "c1 = c1.merge(r1, how='left', on='geneID')\n",
        "c1 = c1.merge(r2, how='left', on='geneID')\n",
        "c1 = c1.merge(r3, how='left', on='geneID')\n",
        "\n",
        "ALL_counts = c1[:-5]\n",
        "ALL_counts\n"
      ]
    },
    {
      "cell_type": "code",
      "execution_count": 112,
      "metadata": {
        "id": "_2dbEF4Q31fx",
        "colab": {
          "base_uri": "https://localhost:8080/",
          "height": 17
        },
        "outputId": "85b2629f-de6a-47f2-813b-03b3c847ca3b"
      },
      "outputs": [
        {
          "output_type": "display_data",
          "data": {
            "text/plain": [
              "<IPython.core.display.Javascript object>"
            ],
            "application/javascript": [
              "\n",
              "    async function download(id, filename, size) {\n",
              "      if (!google.colab.kernel.accessAllowed) {\n",
              "        return;\n",
              "      }\n",
              "      const div = document.createElement('div');\n",
              "      const label = document.createElement('label');\n",
              "      label.textContent = `Downloading \"${filename}\": `;\n",
              "      div.appendChild(label);\n",
              "      const progress = document.createElement('progress');\n",
              "      progress.max = size;\n",
              "      div.appendChild(progress);\n",
              "      document.body.appendChild(div);\n",
              "\n",
              "      const buffers = [];\n",
              "      let downloaded = 0;\n",
              "\n",
              "      const channel = await google.colab.kernel.comms.open(id);\n",
              "      // Send a message to notify the kernel that we're ready.\n",
              "      channel.send({})\n",
              "\n",
              "      for await (const message of channel.messages) {\n",
              "        // Send a message to notify the kernel that we're ready.\n",
              "        channel.send({})\n",
              "        if (message.buffers) {\n",
              "          for (const buffer of message.buffers) {\n",
              "            buffers.push(buffer);\n",
              "            downloaded += buffer.byteLength;\n",
              "            progress.value = downloaded;\n",
              "          }\n",
              "        }\n",
              "      }\n",
              "      const blob = new Blob(buffers, {type: 'application/binary'});\n",
              "      const a = document.createElement('a');\n",
              "      a.href = window.URL.createObjectURL(blob);\n",
              "      a.download = filename;\n",
              "      div.appendChild(a);\n",
              "      a.click();\n",
              "      div.remove();\n",
              "    }\n",
              "  "
            ]
          },
          "metadata": {}
        },
        {
          "output_type": "display_data",
          "data": {
            "text/plain": [
              "<IPython.core.display.Javascript object>"
            ],
            "application/javascript": [
              "download(\"download_b7ed938f-a6f0-4904-984e-b26699fbcd42\", \"ALL.counts\", 2254674)"
            ]
          },
          "metadata": {}
        }
      ],
      "source": [
        "ALL_counts.to_csv('ALL.counts')\n",
        "files.download('ALL.counts')"
      ]
    },
    {
      "cell_type": "code",
      "execution_count": 113,
      "metadata": {
        "id": "hxgsCCgB3-as"
      },
      "outputs": [],
      "source": [
        "common_file = open('ALL.counts', 'w')\n",
        "common_file.write(ALL_counts.to_csv(sep='\\t', index=False))\n",
        "common_file.close()"
      ]
    },
    {
      "cell_type": "code",
      "execution_count": 114,
      "metadata": {
        "id": "aVXUE0W14BmI",
        "colab": {
          "base_uri": "https://localhost:8080/",
          "height": 238
        },
        "outputId": "e0e221cb-0f3d-4184-dcf3-e406b4a671b0"
      },
      "outputs": [
        {
          "output_type": "execute_result",
          "data": {
            "text/plain": [
              "            id      condition\n",
              "c1  SRR3414635        control\n",
              "c2  SRR3414636        control\n",
              "c3  SRR3414637        control\n",
              "r1  SRR3414629  reprogramming\n",
              "r2  SRR3414630  reprogramming\n",
              "r3  SRR3414631  reprogramming"
            ],
            "text/html": [
              "\n",
              "  <div id=\"df-19ed5098-385d-4427-9f47-9181b08f6e95\">\n",
              "    <div class=\"colab-df-container\">\n",
              "      <div>\n",
              "<style scoped>\n",
              "    .dataframe tbody tr th:only-of-type {\n",
              "        vertical-align: middle;\n",
              "    }\n",
              "\n",
              "    .dataframe tbody tr th {\n",
              "        vertical-align: top;\n",
              "    }\n",
              "\n",
              "    .dataframe thead th {\n",
              "        text-align: right;\n",
              "    }\n",
              "</style>\n",
              "<table border=\"1\" class=\"dataframe\">\n",
              "  <thead>\n",
              "    <tr style=\"text-align: right;\">\n",
              "      <th></th>\n",
              "      <th>id</th>\n",
              "      <th>condition</th>\n",
              "    </tr>\n",
              "  </thead>\n",
              "  <tbody>\n",
              "    <tr>\n",
              "      <th>c1</th>\n",
              "      <td>SRR3414635</td>\n",
              "      <td>control</td>\n",
              "    </tr>\n",
              "    <tr>\n",
              "      <th>c2</th>\n",
              "      <td>SRR3414636</td>\n",
              "      <td>control</td>\n",
              "    </tr>\n",
              "    <tr>\n",
              "      <th>c3</th>\n",
              "      <td>SRR3414637</td>\n",
              "      <td>control</td>\n",
              "    </tr>\n",
              "    <tr>\n",
              "      <th>r1</th>\n",
              "      <td>SRR3414629</td>\n",
              "      <td>reprogramming</td>\n",
              "    </tr>\n",
              "    <tr>\n",
              "      <th>r2</th>\n",
              "      <td>SRR3414630</td>\n",
              "      <td>reprogramming</td>\n",
              "    </tr>\n",
              "    <tr>\n",
              "      <th>r3</th>\n",
              "      <td>SRR3414631</td>\n",
              "      <td>reprogramming</td>\n",
              "    </tr>\n",
              "  </tbody>\n",
              "</table>\n",
              "</div>\n",
              "      <button class=\"colab-df-convert\" onclick=\"convertToInteractive('df-19ed5098-385d-4427-9f47-9181b08f6e95')\"\n",
              "              title=\"Convert this dataframe to an interactive table.\"\n",
              "              style=\"display:none;\">\n",
              "        \n",
              "  <svg xmlns=\"http://www.w3.org/2000/svg\" height=\"24px\"viewBox=\"0 0 24 24\"\n",
              "       width=\"24px\">\n",
              "    <path d=\"M0 0h24v24H0V0z\" fill=\"none\"/>\n",
              "    <path d=\"M18.56 5.44l.94 2.06.94-2.06 2.06-.94-2.06-.94-.94-2.06-.94 2.06-2.06.94zm-11 1L8.5 8.5l.94-2.06 2.06-.94-2.06-.94L8.5 2.5l-.94 2.06-2.06.94zm10 10l.94 2.06.94-2.06 2.06-.94-2.06-.94-.94-2.06-.94 2.06-2.06.94z\"/><path d=\"M17.41 7.96l-1.37-1.37c-.4-.4-.92-.59-1.43-.59-.52 0-1.04.2-1.43.59L10.3 9.45l-7.72 7.72c-.78.78-.78 2.05 0 2.83L4 21.41c.39.39.9.59 1.41.59.51 0 1.02-.2 1.41-.59l7.78-7.78 2.81-2.81c.8-.78.8-2.07 0-2.86zM5.41 20L4 18.59l7.72-7.72 1.47 1.35L5.41 20z\"/>\n",
              "  </svg>\n",
              "      </button>\n",
              "      \n",
              "  <style>\n",
              "    .colab-df-container {\n",
              "      display:flex;\n",
              "      flex-wrap:wrap;\n",
              "      gap: 12px;\n",
              "    }\n",
              "\n",
              "    .colab-df-convert {\n",
              "      background-color: #E8F0FE;\n",
              "      border: none;\n",
              "      border-radius: 50%;\n",
              "      cursor: pointer;\n",
              "      display: none;\n",
              "      fill: #1967D2;\n",
              "      height: 32px;\n",
              "      padding: 0 0 0 0;\n",
              "      width: 32px;\n",
              "    }\n",
              "\n",
              "    .colab-df-convert:hover {\n",
              "      background-color: #E2EBFA;\n",
              "      box-shadow: 0px 1px 2px rgba(60, 64, 67, 0.3), 0px 1px 3px 1px rgba(60, 64, 67, 0.15);\n",
              "      fill: #174EA6;\n",
              "    }\n",
              "\n",
              "    [theme=dark] .colab-df-convert {\n",
              "      background-color: #3B4455;\n",
              "      fill: #D2E3FC;\n",
              "    }\n",
              "\n",
              "    [theme=dark] .colab-df-convert:hover {\n",
              "      background-color: #434B5C;\n",
              "      box-shadow: 0px 1px 3px 1px rgba(0, 0, 0, 0.15);\n",
              "      filter: drop-shadow(0px 1px 2px rgba(0, 0, 0, 0.3));\n",
              "      fill: #FFFFFF;\n",
              "    }\n",
              "  </style>\n",
              "\n",
              "      <script>\n",
              "        const buttonEl =\n",
              "          document.querySelector('#df-19ed5098-385d-4427-9f47-9181b08f6e95 button.colab-df-convert');\n",
              "        buttonEl.style.display =\n",
              "          google.colab.kernel.accessAllowed ? 'block' : 'none';\n",
              "\n",
              "        async function convertToInteractive(key) {\n",
              "          const element = document.querySelector('#df-19ed5098-385d-4427-9f47-9181b08f6e95');\n",
              "          const dataTable =\n",
              "            await google.colab.kernel.invokeFunction('convertToInteractive',\n",
              "                                                     [key], {});\n",
              "          if (!dataTable) return;\n",
              "\n",
              "          const docLinkHtml = 'Like what you see? Visit the ' +\n",
              "            '<a target=\"_blank\" href=https://colab.research.google.com/notebooks/data_table.ipynb>data table notebook</a>'\n",
              "            + ' to learn more about interactive tables.';\n",
              "          element.innerHTML = '';\n",
              "          dataTable['output_type'] = 'display_data';\n",
              "          await google.colab.output.renderOutput(dataTable, element);\n",
              "          const docLink = document.createElement('div');\n",
              "          docLink.innerHTML = docLinkHtml;\n",
              "          element.appendChild(docLink);\n",
              "        }\n",
              "      </script>\n",
              "    </div>\n",
              "  </div>\n",
              "  "
            ]
          },
          "metadata": {},
          "execution_count": 114
        }
      ],
      "source": [
        "data = {'id':['SRR3414635', 'SRR3414636', 'SRR3414637', 'SRR3414629', 'SRR3414630', 'SRR3414631'], 'condition':['control', 'control', 'control', 'reprogramming', 'reprogramming', 'reprogramming']}\n",
        "ALL_info = pd.DataFrame(data, index =['c1', 'c2', 'c3', 'r1', 'r2', 'r3'])\n",
        "ALL_info"
      ]
    },
    {
      "cell_type": "code",
      "execution_count": 115,
      "metadata": {
        "id": "8pS9e9HC4OC6"
      },
      "outputs": [],
      "source": [
        "inf_file = open('ALL.info', 'w')\n",
        "inf_file.write(ALL_info.to_csv(sep='\\t'))\n",
        "inf_file.close()"
      ]
    },
    {
      "cell_type": "code",
      "execution_count": 116,
      "metadata": {
        "id": "zoO54UK14P77",
        "colab": {
          "base_uri": "https://localhost:8080/",
          "height": 17
        },
        "outputId": "8107f73b-19b4-4a96-c206-1074dfa5faea"
      },
      "outputs": [
        {
          "output_type": "display_data",
          "data": {
            "text/plain": [
              "<IPython.core.display.Javascript object>"
            ],
            "application/javascript": [
              "\n",
              "    async function download(id, filename, size) {\n",
              "      if (!google.colab.kernel.accessAllowed) {\n",
              "        return;\n",
              "      }\n",
              "      const div = document.createElement('div');\n",
              "      const label = document.createElement('label');\n",
              "      label.textContent = `Downloading \"${filename}\": `;\n",
              "      div.appendChild(label);\n",
              "      const progress = document.createElement('progress');\n",
              "      progress.max = size;\n",
              "      div.appendChild(progress);\n",
              "      document.body.appendChild(div);\n",
              "\n",
              "      const buffers = [];\n",
              "      let downloaded = 0;\n",
              "\n",
              "      const channel = await google.colab.kernel.comms.open(id);\n",
              "      // Send a message to notify the kernel that we're ready.\n",
              "      channel.send({})\n",
              "\n",
              "      for await (const message of channel.messages) {\n",
              "        // Send a message to notify the kernel that we're ready.\n",
              "        channel.send({})\n",
              "        if (message.buffers) {\n",
              "          for (const buffer of message.buffers) {\n",
              "            buffers.push(buffer);\n",
              "            downloaded += buffer.byteLength;\n",
              "            progress.value = downloaded;\n",
              "          }\n",
              "        }\n",
              "      }\n",
              "      const blob = new Blob(buffers, {type: 'application/binary'});\n",
              "      const a = document.createElement('a');\n",
              "      a.href = window.URL.createObjectURL(blob);\n",
              "      a.download = filename;\n",
              "      div.appendChild(a);\n",
              "      a.click();\n",
              "      div.remove();\n",
              "    }\n",
              "  "
            ]
          },
          "metadata": {}
        },
        {
          "output_type": "display_data",
          "data": {
            "text/plain": [
              "<IPython.core.display.Javascript object>"
            ],
            "application/javascript": [
              "download(\"download_b0a23e9e-5b4b-477d-bba2-79018c34e64d\", \"ALL.info\", 164)"
            ]
          },
          "metadata": {}
        }
      ],
      "source": [
        "ALL_info.to_csv('ALL.info')\n",
        "files.download('ALL.info')"
      ]
    }
  ],
  "metadata": {
    "colab": {
      "provenance": [],
      "collapsed_sections": [
        "I6MhDf5N2tQ3",
        "sGULD5P70tvT"
      ]
    },
    "kernelspec": {
      "display_name": "Python 3",
      "name": "python3"
    },
    "language_info": {
      "name": "python"
    }
  },
  "nbformat": 4,
  "nbformat_minor": 0
}